{
 "cells": [
  {
   "cell_type": "code",
   "execution_count": 1,
   "metadata": {},
   "outputs": [
    {
     "name": "stderr",
     "output_type": "stream",
     "text": [
      "2025-01-28 20:35:43.431492: I tensorflow/core/util/port.cc:153] oneDNN custom operations are on. You may see slightly different numerical results due to floating-point round-off errors from different computation orders. To turn them off, set the environment variable `TF_ENABLE_ONEDNN_OPTS=0`.\n",
      "2025-01-28 20:35:43.438626: E external/local_xla/xla/stream_executor/cuda/cuda_fft.cc:477] Unable to register cuFFT factory: Attempting to register factory for plugin cuFFT when one has already been registered\n",
      "WARNING: All log messages before absl::InitializeLog() is called are written to STDERR\n",
      "E0000 00:00:1738067743.446084   34443 cuda_dnn.cc:8310] Unable to register cuDNN factory: Attempting to register factory for plugin cuDNN when one has already been registered\n",
      "E0000 00:00:1738067743.448365   34443 cuda_blas.cc:1418] Unable to register cuBLAS factory: Attempting to register factory for plugin cuBLAS when one has already been registered\n",
      "2025-01-28 20:35:43.457671: I tensorflow/core/platform/cpu_feature_guard.cc:210] This TensorFlow binary is optimized to use available CPU instructions in performance-critical operations.\n",
      "To enable the following instructions: AVX2 AVX512F AVX512_VNNI AVX512_BF16 FMA, in other operations, rebuild TensorFlow with the appropriate compiler flags.\n"
     ]
    }
   ],
   "source": [
    "# 라이브러리\n",
    "import pandas as pd\n",
    "import numpy as np\n",
    "import matplotlib.pyplot as plt\n",
    "import seaborn as sns\n",
    "import keras\n",
    "import os\n",
    "import joblib\n",
    "\n",
    "from imblearn.over_sampling import RandomOverSampler\n",
    "from sklearn.model_selection import train_test_split\n",
    "from sklearn.metrics import *\n",
    "from catboost import CatBoostRegressor"
   ]
  },
  {
   "cell_type": "code",
   "execution_count": 2,
   "metadata": {},
   "outputs": [],
   "source": [
    "path = os.getcwd() + \"/data/data.csv\"\n",
    "df = pd.read_csv(path)\n",
    "df[['gu', 'ro']] = df['Address'].str.split(' ', expand=True).iloc[:, :2]\n",
    "df['Supply_type'] = df['Supply_type'].str.replace(r'\\D', '', regex=True)\n",
    "qty = (3 - df['Cutline_rate']) * 10 + df['Cutline_score']\n",
    "\n",
    "df.drop(\n",
    "    columns=[\n",
    "        'Name','Address', 'Latitude', 'Longitude', 'Infra_score',\n",
    "        'Gender','Shared','Quarter','Counts_supermarket','Counts_laundry',\n",
    "        'Counts_pharmacy','Cutline_rate','Cutline_score'\n",
    "    ],\n",
    "    inplace=True\n",
    ")\n",
    "\n",
    "df = pd.get_dummies(data=df)\n",
    "df['Qty'] = qty"
   ]
  },
  {
   "cell_type": "code",
   "execution_count": 3,
   "metadata": {},
   "outputs": [],
   "source": [
    "X = df.drop(columns='Qty')\n",
    "y = df['Qty']\n",
    "\n",
    "oversampler = RandomOverSampler(sampling_strategy={2: 500, 3: 500})\n",
    "X, y = oversampler.fit_resample(X, y)"
   ]
  },
  {
   "cell_type": "code",
   "execution_count": 4,
   "metadata": {},
   "outputs": [
    {
     "data": {
      "application/vnd.jupyter.widget-view+json": {
       "model_id": "51743f7b106543609eaa77163bddb623",
       "version_major": 2,
       "version_minor": 0
      },
      "text/plain": [
       "MetricVisualizer(layout=Layout(align_self='stretch', height='500px'))"
      ]
     },
     "metadata": {},
     "output_type": "display_data"
    },
    {
     "name": "stdout",
     "output_type": "stream",
     "text": [
      "0:\tlearn: 9.7540688\ttest: 9.5357939\tbest: 9.5357939 (0)\ttotal: 48.9ms\tremaining: 48.9s\n",
      "100:\tlearn: 2.2789929\ttest: 2.1316792\tbest: 2.1316792 (100)\ttotal: 158ms\tremaining: 1.41s\n",
      "200:\tlearn: 1.8902906\ttest: 1.7764108\tbest: 1.7764108 (200)\ttotal: 268ms\tremaining: 1.06s\n",
      "300:\tlearn: 1.6555219\ttest: 1.5417636\tbest: 1.5417636 (300)\ttotal: 371ms\tremaining: 862ms\n",
      "400:\tlearn: 1.4836872\ttest: 1.3754557\tbest: 1.3754557 (400)\ttotal: 470ms\tremaining: 701ms\n",
      "500:\tlearn: 1.3462702\ttest: 1.2498104\tbest: 1.2498104 (500)\ttotal: 586ms\tremaining: 584ms\n",
      "600:\tlearn: 1.2286325\ttest: 1.1394143\tbest: 1.1394143 (600)\ttotal: 684ms\tremaining: 454ms\n",
      "700:\tlearn: 1.1279744\ttest: 1.0435107\tbest: 1.0435107 (700)\ttotal: 778ms\tremaining: 332ms\n",
      "800:\tlearn: 1.0373888\ttest: 0.9484078\tbest: 0.9484078 (800)\ttotal: 879ms\tremaining: 218ms\n",
      "900:\tlearn: 0.9616919\ttest: 0.8789228\tbest: 0.8789228 (900)\ttotal: 990ms\tremaining: 109ms\n",
      "999:\tlearn: 0.8947782\ttest: 0.8276868\tbest: 0.8276868 (999)\ttotal: 1.09s\tremaining: 0us\n",
      "\n",
      "bestTest = 0.8276868191\n",
      "bestIteration = 999\n",
      "\n",
      "Score MAE: 0.47479571747299615\n",
      "Score R2: 0.9935836541616595\n"
     ]
    }
   ],
   "source": [
    "X_train, X_valid, y_train, y_valid = train_test_split(\n",
    "    X, y,\n",
    "    test_size=0.2\n",
    ")\n",
    "\n",
    "model = CatBoostRegressor(\n",
    "    iterations=1000,\n",
    "    depth=6,\n",
    "    learning_rate=0.1,\n",
    "    loss_function='RMSE',\n",
    "    verbose=100,\n",
    "    task_type='CPU'\n",
    ")\n",
    "\n",
    "model.fit(\n",
    "    X, y,\n",
    "    eval_set=(X_valid, y_valid),\n",
    "    early_stopping_rounds=10,\n",
    "    use_best_model=True,\n",
    "    plot=True\n",
    ")\n",
    "\n",
    "y_pred = model.predict(X_valid)\n",
    "\n",
    "# print('Rate : ')\n",
    "# print(classification_report(y_valid,y_pred))\n",
    "# print('Rate CM:')\n",
    "# print(confusion_matrix(y_valid,y_pred))\n",
    "print('Score MAE:',mean_absolute_error(y_valid,y_pred))\n",
    "print('Score R2:',r2_score(y_valid,y_pred))\n",
    "\n",
    "joblib.dump(model, os.getcwd() + '/main.pkl')\n"
   ]
  }
 ],
 "metadata": {
  "kernelspec": {
   "display_name": ".venv",
   "language": "python",
   "name": "python3"
  },
  "language_info": {
   "codemirror_mode": {
    "name": "ipython",
    "version": 3
   },
   "file_extension": ".py",
   "mimetype": "text/x-python",
   "name": "python",
   "nbconvert_exporter": "python",
   "pygments_lexer": "ipython3",
   "version": "3.10.16"
  }
 },
 "nbformat": 4,
 "nbformat_minor": 2
}
