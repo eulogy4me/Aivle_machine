{
 "cells": [
  {
   "cell_type": "code",
   "execution_count": 10,
   "metadata": {},
   "outputs": [],
   "source": [
    "# 라이브러리\n",
    "import pandas as pd\n",
    "import numpy as np\n",
    "import matplotlib.pyplot as plt\n",
    "import seaborn as sns\n",
    "import keras\n",
    "import os\n",
    "import joblib\n",
    "\n",
    "from imblearn.over_sampling import RandomOverSampler\n",
    "from sklearn.model_selection import train_test_split\n",
    "from sklearn.metrics import *\n",
    "from catboost import CatBoostRegressor"
   ]
  },
  {
   "cell_type": "code",
   "execution_count": 11,
   "metadata": {},
   "outputs": [],
   "source": [
    "path = os.getcwd() + \"/data/data.csv\"\n",
    "df = pd.read_csv(path)\n",
    "df[['gu', 'ro']] = df['Address'].str.split(' ', expand=True).iloc[:, :2]\n",
    "df['Supply_type'] = df['Supply_type'].str.replace(r'\\D', '', regex=True)\n",
    "qty = (3 - df['Cutline_rate']) * 10 + df['Cutline_score']\n",
    "\n",
    "df.drop(\n",
    "    columns=[\n",
    "        'Name','Address', 'Latitude', 'Longitude', 'Infra_score',\n",
    "        'Gender','Shared','Quarter','Counts_supermarket','Counts_laundry',\n",
    "        'Counts_pharmacy','Cutline_rate','Cutline_score'\n",
    "    ],\n",
    "    inplace=True\n",
    ")\n",
    "\n",
    "df = pd.get_dummies(data=df)\n",
    "df['Qty'] = qty"
   ]
  },
  {
   "cell_type": "code",
   "execution_count": 12,
   "metadata": {},
   "outputs": [],
   "source": [
    "X = df.drop(columns='Qty')\n",
    "y = df['Qty']\n",
    "\n",
    "oversampler = RandomOverSampler(sampling_strategy={2: 500, 3: 500})\n",
    "X, y = oversampler.fit_resample(X, y)"
   ]
  },
  {
   "cell_type": "code",
   "execution_count": 13,
   "metadata": {},
   "outputs": [
    {
     "data": {
      "application/vnd.jupyter.widget-view+json": {
       "model_id": "9674c7afcb694ecd990673eea46a3ba5",
       "version_major": 2,
       "version_minor": 0
      },
      "text/plain": [
       "MetricVisualizer(layout=Layout(align_self='stretch', height='500px'))"
      ]
     },
     "metadata": {},
     "output_type": "display_data"
    },
    {
     "name": "stdout",
     "output_type": "stream",
     "text": [
      "0:\tlearn: 9.7543095\ttest: 9.6436889\tbest: 9.6436889 (0)\ttotal: 1.05ms\tremaining: 1.05s\n",
      "100:\tlearn: 2.2553017\ttest: 2.1839880\tbest: 2.1839880 (100)\ttotal: 110ms\tremaining: 975ms\n",
      "200:\tlearn: 1.8713646\ttest: 1.8521514\tbest: 1.8521514 (200)\ttotal: 202ms\tremaining: 804ms\n",
      "300:\tlearn: 1.6253360\ttest: 1.6361559\tbest: 1.6361559 (300)\ttotal: 295ms\tremaining: 685ms\n",
      "400:\tlearn: 1.4522892\ttest: 1.4783318\tbest: 1.4783318 (400)\ttotal: 389ms\tremaining: 581ms\n",
      "500:\tlearn: 1.3337121\ttest: 1.3600957\tbest: 1.3600957 (500)\ttotal: 484ms\tremaining: 482ms\n",
      "600:\tlearn: 1.2154165\ttest: 1.2339940\tbest: 1.2339940 (600)\ttotal: 578ms\tremaining: 384ms\n",
      "700:\tlearn: 1.1126003\ttest: 1.1370969\tbest: 1.1370969 (700)\ttotal: 669ms\tremaining: 285ms\n",
      "800:\tlearn: 1.0182635\ttest: 1.0370160\tbest: 1.0370160 (800)\ttotal: 761ms\tremaining: 189ms\n",
      "900:\tlearn: 0.9371871\ttest: 0.9513802\tbest: 0.9513802 (900)\ttotal: 852ms\tremaining: 93.6ms\n",
      "999:\tlearn: 0.8622657\ttest: 0.8791159\tbest: 0.8791159 (999)\ttotal: 951ms\tremaining: 0us\n",
      "\n",
      "bestTest = 0.8791159218\n",
      "bestIteration = 999\n",
      "\n",
      "Score MAE: 0.5185531142606448\n",
      "Score R2: 0.9929708004601744\n"
     ]
    },
    {
     "data": {
      "text/plain": [
       "['/home/chansa/aivle/Projects/bigpj/main.pkl']"
      ]
     },
     "execution_count": 13,
     "metadata": {},
     "output_type": "execute_result"
    }
   ],
   "source": [
    "X_train, X_valid, y_train, y_valid = train_test_split(\n",
    "    X, y,\n",
    "    test_size=0.2\n",
    ")\n",
    "\n",
    "model = CatBoostRegressor(\n",
    "    iterations=1000,\n",
    "    depth=6,\n",
    "    learning_rate=0.1,\n",
    "    loss_function='RMSE',\n",
    "    verbose=100,\n",
    "    task_type='CPU'\n",
    ")\n",
    "\n",
    "model.fit(\n",
    "    X, y,\n",
    "    eval_set=(X_valid, y_valid),\n",
    "    early_stopping_rounds=10,\n",
    "    use_best_model=True,\n",
    "    plot=True\n",
    ")\n",
    "\n",
    "y_pred = model.predict(X_valid)\n",
    "\n",
    "# print('Rate : ')\n",
    "# print(classification_report(y_valid,y_pred))\n",
    "# print('Rate CM:')\n",
    "# print(confusion_matrix(y_valid,y_pred))\n",
    "print('Score MAE:',mean_absolute_error(y_valid,y_pred))\n",
    "print('Score R2:',r2_score(y_valid,y_pred))\n",
    "\n",
    "joblib.dump(model, os.getcwd() + '/main.pkl')\n"
   ]
  },
  {
   "cell_type": "code",
   "execution_count": 15,
   "metadata": {},
   "outputs": [
    {
     "name": "stdout",
     "output_type": "stream",
     "text": [
      "[ 2.15469516  2.15469516 24.4048619  28.00728158 28.05301542  3.02657945\n",
      "  3.02657945  3.0320101   2.15469516 23.41673542  3.0320101  20.85952492\n",
      " 23.09514963  3.0320101  25.6746261  18.92516255  3.02657945 18.08241161\n",
      "  3.02657945  3.02657945 20.31714428  2.04161223  3.02657945 23.51599202\n",
      "  3.02657945  1.95665632  2.10946143 27.75793294  3.02657945 22.84564895\n",
      " 25.74459163  3.0320101   2.28967487 14.43638875 27.70275363 25.31033173\n",
      "  3.02657945 18.0090579  27.54236287 24.03531608  2.02199696  1.94526816\n",
      "  3.02657945 26.33156605  1.97667845  3.0320101   2.02852266  1.95665632\n",
      " 26.52393372 24.55292246 27.7419897   3.0320101   3.02657945  3.02657945\n",
      "  1.97667845 17.01819721  7.08952209 25.28323879  2.02852266  7.11827239\n",
      "  3.02657945  3.0320101   3.02657945 14.43341941  1.94526816 24.84072251\n",
      "  7.00362159 16.32267713  3.02657945  2.08626082  3.0320101   3.02657945\n",
      "  2.08626082  2.10946143 29.27972992 14.82024676  2.09616081  3.02657945\n",
      "  3.0320101   1.95665632  3.0320101  18.62128516  2.00657797 28.26448338\n",
      " 25.30336136  3.02657945 20.38350139 26.0308336   3.02657945  3.02657945\n",
      " 28.7519298  27.28234978 27.37620195  2.08626082 15.21040641  2.04161223\n",
      " 15.18398509  3.0320101   2.04161223 26.27295228 24.31425524  2.00657797\n",
      "  2.02852266  3.02657945 17.10617928 22.65577739 24.17098156  1.95665632\n",
      " 20.22708397 18.03239357  1.85831713  3.02657945  3.0320101  16.68594277\n",
      "  3.02657945 12.0829068   3.0320101   1.82979999 24.21666816 13.60988282\n",
      "  2.02852266  3.02657945 24.78084621  3.0320101  25.62204043 28.62570569\n",
      "  3.0320101   1.97144388 28.36747398  3.02657945  3.02657945  3.0320101\n",
      "  3.02657945 22.57819663  2.02852266  3.0320101  26.70908442  3.02657945\n",
      "  1.85831713  3.0320101  25.35349159  2.28967487 28.45305812  3.02657945\n",
      "  3.0320101  24.14021992  2.09616081 21.87978515  3.02657945  2.10946143\n",
      "  1.94526816  3.02657945 17.40880346  2.10946143 24.14037909  2.10946143\n",
      " 24.092265   22.54139756  2.08626082 25.27020568  3.02657945  2.04161223\n",
      "  3.0320101  16.28787399  2.28967487  3.0320101  18.9313967   3.02657945\n",
      "  3.0320101  20.90190484 26.35848638 24.68957309 20.18991141 12.37160272\n",
      "  2.02852266 21.97778399 26.39761025  2.28967487  2.28967487 26.93672094\n",
      "  2.28967487 26.93620506  2.02852266 27.92905163 26.80920539  2.02199696\n",
      "  3.0320101  24.26667378  2.02852266 25.23562443 23.15772812  1.95665632\n",
      " 21.39449726  3.02657945 18.69858742  2.02852266 23.35848734  2.10946143\n",
      "  3.02657945 25.17400558 25.47178568  2.09616081  3.02657945  1.95665632\n",
      " 20.88364839  3.0320101   1.85831713 17.11846999  3.02657945  2.04161223\n",
      " 25.6174417  27.5205485  26.63464173 22.16662186  2.02199696 24.3784988\n",
      "  2.02199696 17.35706402 22.78196302 24.42201587  3.02657945  3.0320101\n",
      " 26.02851624 24.11312057  3.02657945  1.95665632  3.0320101  19.31864\n",
      " 19.31072692  3.02657945  1.97667845  3.02657945 24.9448529  16.64162102\n",
      "  3.02657945  3.0320101  26.52923545  3.02657945 25.75216465  3.02657945\n",
      "  3.0320101  20.31536127 24.12066785 17.17131705  2.02199696  2.15469516\n",
      " 19.07093205  1.94526816  2.00657797  3.02657945 24.69352019  3.02657945\n",
      " 28.65778174  2.10946143  3.02657945  1.85831713 25.98718402 20.29211165\n",
      " 26.21755633  3.02657945 16.43926013 26.18449344  3.02657945 18.80919398\n",
      " 21.99408909 24.36695546  3.0320101   2.15469516 16.76122741  2.10946143\n",
      "  3.0320101  25.28729928  3.0320101  26.30130349  1.97667845 19.10989224\n",
      "  2.15469516 14.39249487 20.25827323 13.13121153  3.02657945  3.0320101\n",
      "  1.85831713  2.08626082  2.00657797 21.87881608  3.0320101   3.02657945\n",
      "  2.08626082 22.75513879  3.02657945  3.02657945  2.08626082 25.63917207\n",
      " 27.16501312  3.0320101   3.0320101  25.1901256  29.58918227 21.32228483\n",
      "  1.97667845  3.0320101   2.28967487 17.12068684  3.0320101   3.02657945\n",
      "  3.02657945 16.41848859 15.22310042  3.0320101  26.38654628  3.0320101\n",
      " 24.64059633  1.97144388 15.43407531 17.72734703 19.67272919  3.02657945\n",
      "  3.02657945  2.00657797 22.39110719  3.0320101   2.04161223 20.12157416\n",
      "  2.15469516  3.0320101   3.02657945 12.49789005  2.08626082  1.94526816\n",
      "  1.85831713 19.64948815 13.73196341  3.0320101   1.85831713 24.47521949\n",
      " 24.60896947  3.02657945 27.76970504  3.0320101  21.26550433  2.08626082\n",
      " 27.2696608   3.0320101   3.02657945 26.7942322  21.33738047 27.99444407\n",
      " 25.26738607 17.36668445 23.35592167  3.0320101  22.18834205 23.45432829\n",
      "  3.02657945  3.0320101  21.50875149 19.6974388  24.13285922  3.02657945\n",
      " 24.84423202  3.0320101   2.08626082 28.00999324 29.32994836  3.0320101\n",
      "  1.97667845 28.725087   25.98581759  2.02199696  1.85831713 14.43781992]\n"
     ]
    },
    {
     "ename": "ValueError",
     "evalue": "Length of values (372) does not match length of index (876)",
     "output_type": "error",
     "traceback": [
      "\u001b[0;31m---------------------------------------------------------------------------\u001b[0m",
      "\u001b[0;31mValueError\u001b[0m                                Traceback (most recent call last)",
      "Cell \u001b[0;32mIn[15], line 5\u001b[0m\n\u001b[1;32m      3\u001b[0m \u001b[38;5;28mprint\u001b[39m(y_pred)\n\u001b[1;32m      4\u001b[0m df \u001b[38;5;241m=\u001b[39m pd\u001b[38;5;241m.\u001b[39mread_csv(path)\n\u001b[0;32m----> 5\u001b[0m \u001b[43mdf\u001b[49m\u001b[43m[\u001b[49m\u001b[38;5;124;43m'\u001b[39;49m\u001b[38;5;124;43mQty\u001b[39;49m\u001b[38;5;124;43m'\u001b[39;49m\u001b[43m]\u001b[49m \u001b[38;5;241m=\u001b[39m y_pred\n\u001b[1;32m      6\u001b[0m df\u001b[38;5;241m.\u001b[39mto_csv(os\u001b[38;5;241m.\u001b[39mgetcwd() \u001b[38;5;241m+\u001b[39m \u001b[38;5;124m'\u001b[39m\u001b[38;5;124m/data/data_catboost.csv\u001b[39m\u001b[38;5;124m'\u001b[39m)\n",
      "File \u001b[0;32m~/aivle/.venv/lib/python3.10/site-packages/pandas/core/frame.py:4311\u001b[0m, in \u001b[0;36mDataFrame.__setitem__\u001b[0;34m(self, key, value)\u001b[0m\n\u001b[1;32m   4308\u001b[0m     \u001b[38;5;28mself\u001b[39m\u001b[38;5;241m.\u001b[39m_setitem_array([key], value)\n\u001b[1;32m   4309\u001b[0m \u001b[38;5;28;01melse\u001b[39;00m:\n\u001b[1;32m   4310\u001b[0m     \u001b[38;5;66;03m# set column\u001b[39;00m\n\u001b[0;32m-> 4311\u001b[0m     \u001b[38;5;28;43mself\u001b[39;49m\u001b[38;5;241;43m.\u001b[39;49m\u001b[43m_set_item\u001b[49m\u001b[43m(\u001b[49m\u001b[43mkey\u001b[49m\u001b[43m,\u001b[49m\u001b[43m \u001b[49m\u001b[43mvalue\u001b[49m\u001b[43m)\u001b[49m\n",
      "File \u001b[0;32m~/aivle/.venv/lib/python3.10/site-packages/pandas/core/frame.py:4524\u001b[0m, in \u001b[0;36mDataFrame._set_item\u001b[0;34m(self, key, value)\u001b[0m\n\u001b[1;32m   4514\u001b[0m \u001b[38;5;28;01mdef\u001b[39;00m\u001b[38;5;250m \u001b[39m\u001b[38;5;21m_set_item\u001b[39m(\u001b[38;5;28mself\u001b[39m, key, value) \u001b[38;5;241m-\u001b[39m\u001b[38;5;241m>\u001b[39m \u001b[38;5;28;01mNone\u001b[39;00m:\n\u001b[1;32m   4515\u001b[0m \u001b[38;5;250m    \u001b[39m\u001b[38;5;124;03m\"\"\"\u001b[39;00m\n\u001b[1;32m   4516\u001b[0m \u001b[38;5;124;03m    Add series to DataFrame in specified column.\u001b[39;00m\n\u001b[1;32m   4517\u001b[0m \n\u001b[0;32m   (...)\u001b[0m\n\u001b[1;32m   4522\u001b[0m \u001b[38;5;124;03m    ensure homogeneity.\u001b[39;00m\n\u001b[1;32m   4523\u001b[0m \u001b[38;5;124;03m    \"\"\"\u001b[39;00m\n\u001b[0;32m-> 4524\u001b[0m     value, refs \u001b[38;5;241m=\u001b[39m \u001b[38;5;28;43mself\u001b[39;49m\u001b[38;5;241;43m.\u001b[39;49m\u001b[43m_sanitize_column\u001b[49m\u001b[43m(\u001b[49m\u001b[43mvalue\u001b[49m\u001b[43m)\u001b[49m\n\u001b[1;32m   4526\u001b[0m     \u001b[38;5;28;01mif\u001b[39;00m (\n\u001b[1;32m   4527\u001b[0m         key \u001b[38;5;129;01min\u001b[39;00m \u001b[38;5;28mself\u001b[39m\u001b[38;5;241m.\u001b[39mcolumns\n\u001b[1;32m   4528\u001b[0m         \u001b[38;5;129;01mand\u001b[39;00m value\u001b[38;5;241m.\u001b[39mndim \u001b[38;5;241m==\u001b[39m \u001b[38;5;241m1\u001b[39m\n\u001b[1;32m   4529\u001b[0m         \u001b[38;5;129;01mand\u001b[39;00m \u001b[38;5;129;01mnot\u001b[39;00m \u001b[38;5;28misinstance\u001b[39m(value\u001b[38;5;241m.\u001b[39mdtype, ExtensionDtype)\n\u001b[1;32m   4530\u001b[0m     ):\n\u001b[1;32m   4531\u001b[0m         \u001b[38;5;66;03m# broadcast across multiple columns if necessary\u001b[39;00m\n\u001b[1;32m   4532\u001b[0m         \u001b[38;5;28;01mif\u001b[39;00m \u001b[38;5;129;01mnot\u001b[39;00m \u001b[38;5;28mself\u001b[39m\u001b[38;5;241m.\u001b[39mcolumns\u001b[38;5;241m.\u001b[39mis_unique \u001b[38;5;129;01mor\u001b[39;00m \u001b[38;5;28misinstance\u001b[39m(\u001b[38;5;28mself\u001b[39m\u001b[38;5;241m.\u001b[39mcolumns, MultiIndex):\n",
      "File \u001b[0;32m~/aivle/.venv/lib/python3.10/site-packages/pandas/core/frame.py:5266\u001b[0m, in \u001b[0;36mDataFrame._sanitize_column\u001b[0;34m(self, value)\u001b[0m\n\u001b[1;32m   5263\u001b[0m     \u001b[38;5;28;01mreturn\u001b[39;00m _reindex_for_setitem(value, \u001b[38;5;28mself\u001b[39m\u001b[38;5;241m.\u001b[39mindex)\n\u001b[1;32m   5265\u001b[0m \u001b[38;5;28;01mif\u001b[39;00m is_list_like(value):\n\u001b[0;32m-> 5266\u001b[0m     \u001b[43mcom\u001b[49m\u001b[38;5;241;43m.\u001b[39;49m\u001b[43mrequire_length_match\u001b[49m\u001b[43m(\u001b[49m\u001b[43mvalue\u001b[49m\u001b[43m,\u001b[49m\u001b[43m \u001b[49m\u001b[38;5;28;43mself\u001b[39;49m\u001b[38;5;241;43m.\u001b[39;49m\u001b[43mindex\u001b[49m\u001b[43m)\u001b[49m\n\u001b[1;32m   5267\u001b[0m arr \u001b[38;5;241m=\u001b[39m sanitize_array(value, \u001b[38;5;28mself\u001b[39m\u001b[38;5;241m.\u001b[39mindex, copy\u001b[38;5;241m=\u001b[39m\u001b[38;5;28;01mTrue\u001b[39;00m, allow_2d\u001b[38;5;241m=\u001b[39m\u001b[38;5;28;01mTrue\u001b[39;00m)\n\u001b[1;32m   5268\u001b[0m \u001b[38;5;28;01mif\u001b[39;00m (\n\u001b[1;32m   5269\u001b[0m     \u001b[38;5;28misinstance\u001b[39m(value, Index)\n\u001b[1;32m   5270\u001b[0m     \u001b[38;5;129;01mand\u001b[39;00m value\u001b[38;5;241m.\u001b[39mdtype \u001b[38;5;241m==\u001b[39m \u001b[38;5;124m\"\u001b[39m\u001b[38;5;124mobject\u001b[39m\u001b[38;5;124m\"\u001b[39m\n\u001b[0;32m   (...)\u001b[0m\n\u001b[1;32m   5273\u001b[0m     \u001b[38;5;66;03m# TODO: Remove kludge in sanitize_array for string mode when enforcing\u001b[39;00m\n\u001b[1;32m   5274\u001b[0m     \u001b[38;5;66;03m# this deprecation\u001b[39;00m\n",
      "File \u001b[0;32m~/aivle/.venv/lib/python3.10/site-packages/pandas/core/common.py:573\u001b[0m, in \u001b[0;36mrequire_length_match\u001b[0;34m(data, index)\u001b[0m\n\u001b[1;32m    569\u001b[0m \u001b[38;5;250m\u001b[39m\u001b[38;5;124;03m\"\"\"\u001b[39;00m\n\u001b[1;32m    570\u001b[0m \u001b[38;5;124;03mCheck the length of data matches the length of the index.\u001b[39;00m\n\u001b[1;32m    571\u001b[0m \u001b[38;5;124;03m\"\"\"\u001b[39;00m\n\u001b[1;32m    572\u001b[0m \u001b[38;5;28;01mif\u001b[39;00m \u001b[38;5;28mlen\u001b[39m(data) \u001b[38;5;241m!=\u001b[39m \u001b[38;5;28mlen\u001b[39m(index):\n\u001b[0;32m--> 573\u001b[0m     \u001b[38;5;28;01mraise\u001b[39;00m \u001b[38;5;167;01mValueError\u001b[39;00m(\n\u001b[1;32m    574\u001b[0m         \u001b[38;5;124m\"\u001b[39m\u001b[38;5;124mLength of values \u001b[39m\u001b[38;5;124m\"\u001b[39m\n\u001b[1;32m    575\u001b[0m         \u001b[38;5;124mf\u001b[39m\u001b[38;5;124m\"\u001b[39m\u001b[38;5;124m(\u001b[39m\u001b[38;5;132;01m{\u001b[39;00m\u001b[38;5;28mlen\u001b[39m(data)\u001b[38;5;132;01m}\u001b[39;00m\u001b[38;5;124m) \u001b[39m\u001b[38;5;124m\"\u001b[39m\n\u001b[1;32m    576\u001b[0m         \u001b[38;5;124m\"\u001b[39m\u001b[38;5;124mdoes not match length of index \u001b[39m\u001b[38;5;124m\"\u001b[39m\n\u001b[1;32m    577\u001b[0m         \u001b[38;5;124mf\u001b[39m\u001b[38;5;124m\"\u001b[39m\u001b[38;5;124m(\u001b[39m\u001b[38;5;132;01m{\u001b[39;00m\u001b[38;5;28mlen\u001b[39m(index)\u001b[38;5;132;01m}\u001b[39;00m\u001b[38;5;124m)\u001b[39m\u001b[38;5;124m\"\u001b[39m\n\u001b[1;32m    578\u001b[0m     )\n",
      "\u001b[0;31mValueError\u001b[0m: Length of values (372) does not match length of index (876)"
     ]
    }
   ],
   "source": [
    "joblib.load(os.getcwd() + '/main.pkl')\n",
    "y_pred = model.predict(X_valid)\n",
    "print(y_pred)\n",
    "df = pd.read_csv(path)\n",
    "df['Qty'] = y_pred\n",
    "df.to_csv(os.getcwd() + '/data/data_catboost.csv')"
   ]
  }
 ],
 "metadata": {
  "kernelspec": {
   "display_name": "torch",
   "language": "python",
   "name": "python3"
  },
  "language_info": {
   "codemirror_mode": {
    "name": "ipython",
    "version": 3
   },
   "file_extension": ".py",
   "mimetype": "text/x-python",
   "name": "python",
   "nbconvert_exporter": "python",
   "pygments_lexer": "ipython3",
   "version": "3.11.11"
  }
 },
 "nbformat": 4,
 "nbformat_minor": 2
}
