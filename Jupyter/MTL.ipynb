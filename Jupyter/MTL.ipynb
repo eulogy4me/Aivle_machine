{
 "cells": [
  {
   "cell_type": "code",
   "execution_count": 170,
   "id": "890f2cbb-91d0-49f5-9e37-90ed5ed5c3b2",
   "metadata": {},
   "outputs": [],
   "source": [
    "import os\n",
    "import numpy as np\n",
    "import pandas as pd\n",
    "import torch\n",
    "import torch.nn as nn\n",
    "import torch.nn.functional as F\n",
    "import torch.optim as optim\n",
    "from sklearn.model_selection import train_test_split\n",
    "from sklearn.preprocessing import StandardScaler, LabelEncoder\n",
    "from imblearn.over_sampling import ADASYN\n",
    "from collections import Counter\n",
    "import matplotlib.pyplot as plt\n",
    "import seaborn as sns\n",
    "import warnings"
   ]
  },
  {
   "cell_type": "code",
   "execution_count": 171,
   "id": "8a1ced59-bdf6-4d94-834f-22d7ed0a54ce",
   "metadata": {},
   "outputs": [],
   "source": [
    "path = os.getcwd() + '/data/data.csv'\n",
    "df = pd.read_csv(path)"
   ]
  },
  {
   "cell_type": "code",
   "execution_count": 172,
   "id": "94857500-b8cc-4c66-9f13-6cc32fa4306f",
   "metadata": {},
   "outputs": [
    {
     "data": {
      "text/plain": [
       "Index(['Name', 'Address', 'Latitude', 'Longitude', 'Supply_type',\n",
       "       'Applicant_type', 'Units', 'Gender', 'Shared', 'Cutline_rate',\n",
       "       'Cutline_score', 'Year', 'Quarter', 'Applied_type', 'Counts_daiso',\n",
       "       'Counts_supermarket', 'Counts_laundry', 'Counts_pharmacy',\n",
       "       'Counts_cafe', 'Counts_convstore', 'Counts_station', 'Infra_score',\n",
       "       'people', 'Rate1', 'Rate2', 'Rate3'],\n",
       "      dtype='object')"
      ]
     },
     "execution_count": 172,
     "metadata": {},
     "output_type": "execute_result"
    }
   ],
   "source": [
    "df.columns"
   ]
  },
  {
   "cell_type": "code",
   "execution_count": 173,
   "id": "9516ca2a-c955-417a-98ed-1f01ed6ce9ea",
   "metadata": {},
   "outputs": [],
   "source": [
    "df[['gu', 'ro']] = df['Address'].str.split(' ', expand=True).iloc[:, :2]\n",
    "df['Supply_type'] = df['Supply_type'].str.replace(r'\\D', '', regex=True)\n",
    "\n",
    "df.drop(\n",
    "    columns=[\n",
    "        'Name','Address', 'Latitude', 'Longitude', 'Infra_score',\n",
    "        'Gender','Shared','Quarter','Counts_supermarket','Counts_laundry',\n",
    "        'Counts_pharmacy'\n",
    "    ],\n",
    "    inplace=True\n",
    ")\n",
    "\n",
    "cutline_rate = df['Cutline_rate']\n",
    "df = pd.get_dummies(df.drop(columns=['Cutline_rate']))\n",
    "df['Cutline_rate'] = cutline_rate\n",
    "\n",
    "X = df.drop(columns=['Cutline_rate'])\n",
    "X = X.astype('float32')\n",
    "y = df['Cutline_rate']\n",
    "y = y.astype('float32')\n"
   ]
  },
  {
   "cell_type": "code",
   "execution_count": 174,
   "id": "24fbc554-e1d4-46b3-b090-80ce861aa66a",
   "metadata": {},
   "outputs": [
    {
     "data": {
      "text/plain": [
       "(876, 341)"
      ]
     },
     "execution_count": 174,
     "metadata": {},
     "output_type": "execute_result"
    }
   ],
   "source": [
    "X.shape"
   ]
  },
  {
   "cell_type": "code",
   "execution_count": 175,
   "id": "7ca9dca9-abd0-4c39-b6a2-3b0cece85cf1",
   "metadata": {},
   "outputs": [
    {
     "name": "stdout",
     "output_type": "stream",
     "text": [
      "오버샘플링 전 클래스 분포: Counter({1.0: 573, 2.0: 269, 3.0: 34})\n",
      "오버샘플링 후 클래스 분포: Counter({3.0: 574, 1.0: 573, 2.0: 526})\n"
     ]
    }
   ],
   "source": [
    "adasyn = ADASYN(random_state=42)\n",
    "X_s, y_s = adasyn.fit_resample(X, y)\n",
    "\n",
    "print(\"오버샘플링 전 클래스 분포:\", Counter(y))\n",
    "print(\"오버샘플링 후 클래스 분포:\", Counter(y_s))"
   ]
  },
  {
   "cell_type": "code",
   "execution_count": 176,
   "id": "3d1f1b43-7805-4032-a475-4ee533a31609",
   "metadata": {},
   "outputs": [],
   "source": [
    "X = X_s.copy()\n",
    "y_classification = y_s.copy()\n",
    "y_regression = X_s['Cutline_score']"
   ]
  },
  {
   "cell_type": "code",
   "execution_count": 177,
   "id": "a732083c-a515-47d7-ad0f-5660b5dfa3a9",
   "metadata": {},
   "outputs": [
    {
     "data": {
      "text/plain": [
       "Index([], dtype='object')"
      ]
     },
     "execution_count": 177,
     "metadata": {},
     "output_type": "execute_result"
    }
   ],
   "source": [
    "X.select_dtypes(include='object').columns"
   ]
  },
  {
   "cell_type": "code",
   "execution_count": 178,
   "id": "8983030a-5220-4a8f-a2c3-5ebfbfbf91d2",
   "metadata": {},
   "outputs": [],
   "source": [
    "X_train, X_test, y_train_classification, y_test_classification, y_train_regression, y_test_regression = train_test_split(X, y_classification, y_regression, test_size=0.1, random_state=42)"
   ]
  },
  {
   "cell_type": "code",
   "execution_count": 179,
   "id": "d272314f",
   "metadata": {},
   "outputs": [
    {
     "data": {
      "text/plain": [
       "Index([], dtype='object')"
      ]
     },
     "execution_count": 179,
     "metadata": {},
     "output_type": "execute_result"
    }
   ],
   "source": [
    "X_train.select_dtypes(include='object').columns"
   ]
  },
  {
   "cell_type": "code",
   "execution_count": 180,
   "id": "373a298f",
   "metadata": {},
   "outputs": [
    {
     "data": {
      "text/plain": [
       "array([[0.7418666, 8.420802 , 2.7744002, ..., 0.       , 0.       ,\n",
       "        0.       ],\n",
       "       [0.       , 4.       , 7.       , ..., 0.       , 0.       ,\n",
       "        0.       ],\n",
       "       [0.       , 3.912096 , 4.329677 , ..., 0.       , 0.       ,\n",
       "        0.       ],\n",
       "       ...,\n",
       "       [0.       , 1.       , 3.       , ..., 0.       , 0.       ,\n",
       "        0.       ],\n",
       "       [1.       , 8.211802 , 2.       , ..., 0.       , 0.       ,\n",
       "        0.       ],\n",
       "       [0.       , 8.745401 , 7.0563035, ..., 0.       , 0.       ,\n",
       "        0.       ]], dtype=float32)"
      ]
     },
     "execution_count": 180,
     "metadata": {},
     "output_type": "execute_result"
    }
   ],
   "source": [
    "X_train.values"
   ]
  },
  {
   "cell_type": "markdown",
   "id": "e076e3ea",
   "metadata": {},
   "source": [
    "# 데이터 스케일링\n",
    "scaler = StandardScaler()\n",
    "X_train = scaler.fit_transform(X_train)\n",
    "X_test = scaler.transform(X_test)"
   ]
  },
  {
   "cell_type": "code",
   "execution_count": 181,
   "id": "a2b0cdf2-1624-454a-bbe5-b01a9d23d117",
   "metadata": {},
   "outputs": [],
   "source": [
    "y_train_classification = y_train_classification - 1\n",
    "y_test_classification = y_test_classification - 1"
   ]
  },
  {
   "cell_type": "code",
   "execution_count": 182,
   "id": "49698685-222f-4fa1-8baf-57081b273b61",
   "metadata": {},
   "outputs": [],
   "source": [
    "X_train_tensor = torch.tensor(X_train.values, dtype=torch.float32)\n",
    "X_test_tensor = torch.tensor(X_test.values, dtype=torch.float32)\n",
    "y_train_classification_tensor = torch.tensor(y_train_classification.values, dtype=torch.long)\n",
    "y_test_classification_tensor = torch.tensor(y_test_classification.values, dtype=torch.long)\n",
    "y_train_regression_tensor = torch.tensor(y_train_regression.values, dtype=torch.float32)\n",
    "y_test_regression_tensor = torch.tensor(y_test_regression.values, dtype=torch.float32)\n",
    "\n",
    "\n",
    "class MultiOutputNN(nn.Module):\n",
    "    def __init__(self, input_dim):\n",
    "        super(MultiOutputNN, self).__init__()\n",
    "        self.fc1 = nn.Linear(input_dim, 512)\n",
    "        self.fc2 = nn.Linear(512, 256)\n",
    "        self.fc3 = nn.Linear(256, 256)\n",
    "        self.fc4 = nn.Linear(256, 128)\n",
    "        self.classification_head = nn.Linear(128, 3)\n",
    "        self.regression_head = nn.Linear(128, 1)\n",
    "\n",
    "    def forward(self, x):\n",
    "        x = torch.relu(self.fc1(x))\n",
    "        x = torch.relu(self.fc2(x))\n",
    "        x = torch.relu(self.fc3(x))\n",
    "        x = torch.relu(self.fc4(x))\n",
    "        classification_output = self.classification_head(x)\n",
    "        regression_output = self.regression_head(x)\n",
    "        return classification_output, regression_output"
   ]
  },
  {
   "cell_type": "code",
   "execution_count": 183,
   "id": "e444db78-14d9-4ef1-a55c-2bbab211dd7c",
   "metadata": {},
   "outputs": [],
   "source": [
    "model = MultiOutputNN(input_dim=X_train.shape[1])"
   ]
  },
  {
   "cell_type": "code",
   "execution_count": 184,
   "id": "0276d208-c12f-4126-b012-dc8083a7005e",
   "metadata": {},
   "outputs": [],
   "source": [
    "classification_loss_fn = nn.CrossEntropyLoss()\n",
    "regression_loss_fn = nn.MSELoss()\n",
    "optimizer = optim.Adam(model.parameters(), lr=0.001)\n",
    "\n",
    "best_loss = float('inf')\n",
    "patience = 15\n",
    "patience_counter = 0\n",
    "\n",
    "num_epochs = 100\n",
    "batch_size = 1\n",
    "\n",
    "train_losses_classification = []\n",
    "train_losses_regression = []\n",
    "val_losses_classification = []\n",
    "val_losses_regression = []"
   ]
  },
  {
   "cell_type": "code",
   "execution_count": 185,
   "id": "d9dc6975-a6f3-468a-8a58-9a5b7c1bac9b",
   "metadata": {},
   "outputs": [
    {
     "name": "stdout",
     "output_type": "stream",
     "text": [
      "Classification Accuracy: 0.601190447807312\n",
      "Regression MAE: 1.599764347076416\n"
     ]
    }
   ],
   "source": [
    "for epoch in range(num_epochs):\n",
    "    model.train()\n",
    "    optimizer.zero_grad()\n",
    "    \n",
    "    # Forward pass\n",
    "    classification_output, regression_output = model(X_train_tensor)\n",
    "    \n",
    "    # Compute losses\n",
    "    classification_loss = classification_loss_fn(classification_output, y_train_classification_tensor)\n",
    "    regression_loss = regression_loss_fn(regression_output.squeeze(), y_train_regression_tensor)\n",
    "    total_loss = classification_loss + regression_loss\n",
    "    \n",
    "    # Backward pass and optimization\n",
    "    total_loss.backward()\n",
    "    optimizer.step()\n",
    "    \n",
    "    train_losses_classification.append(classification_loss.item())\n",
    "    train_losses_regression.append(regression_loss.item())\n",
    "    \n",
    "    # Validation\n",
    "    model.eval()\n",
    "    with torch.no_grad():\n",
    "        classification_output_val, regression_output_val = model(X_test_tensor)\n",
    "        val_classification_loss = classification_loss_fn(classification_output_val, y_test_classification_tensor)\n",
    "        val_regression_loss = regression_loss_fn(regression_output_val.squeeze(), y_test_regression_tensor)\n",
    "        \n",
    "        val_losses_classification.append(val_classification_loss.item())\n",
    "        val_losses_regression.append(val_regression_loss.item())\n",
    "    \n",
    "    # Early stopping\n",
    "    if val_classification_loss.item() + val_regression_loss.item() < best_loss:\n",
    "        best_loss = val_classification_loss.item() + val_regression_loss.item()\n",
    "        patience_counter = 0\n",
    "    else:\n",
    "        patience_counter += 1\n",
    "    \n",
    "    if patience_counter >= patience:\n",
    "        print(f\"Early stopping at epoch {epoch}\")\n",
    "        break\n",
    "\n",
    "# Evaluate the model\n",
    "model.eval()\n",
    "with torch.no_grad():\n",
    "    classification_output_test, regression_output_test = model(X_test_tensor)\n",
    "    _, predicted_classification = torch.max(classification_output_test, 1)\n",
    "    \n",
    "    # Compute metrics\n",
    "    classification_accuracy = (predicted_classification == y_test_classification_tensor).float().mean()\n",
    "    regression_mae = torch.mean(torch.abs(regression_output_test.squeeze() - y_test_regression_tensor))\n",
    "    \n",
    "    print(f\"Classification Accuracy: {classification_accuracy.item()}\")\n",
    "    print(f\"Regression MAE: {regression_mae.item()}\")"
   ]
  },
  {
   "cell_type": "code",
   "execution_count": 186,
   "id": "d5510395-2783-424b-81a4-18c8105d1a8c",
   "metadata": {},
   "outputs": [
    {
     "data": {
      "image/png": "[encoded data removed]",
      "text/plain": [
       "<Figure size 1200x600 with 2 Axes>"
      ]
     },
     "metadata": {},
     "output_type": "display_data"
    }
   ],
   "source": [
    "plt.figure(figsize=(12, 6))\n",
    "\n",
    "plt.subplot(1, 2, 1)\n",
    "plt.plot(train_losses_classification, label='Train Classification Loss')\n",
    "plt.plot(val_losses_classification, label='Validation Classification Loss')\n",
    "plt.title('Classification Loss')\n",
    "plt.xlabel('Epochs')\n",
    "plt.ylabel('Loss')\n",
    "plt.legend()\n",
    "\n",
    "plt.subplot(1, 2, 2)\n",
    "plt.plot(train_losses_regression, label='Train Regression Loss')\n",
    "plt.plot(val_losses_regression, label='Validation Regression Loss')\n",
    "plt.title('Regression Loss')\n",
    "plt.xlabel('Epochs')\n",
    "plt.ylabel('Loss')\n",
    "plt.legend()\n",
    "\n",
    "plt.tight_layout()\n",
    "plt.show()"
   ]
  },
  {
   "cell_type": "code",
   "execution_count": null,
   "id": "9e304572-ea51-4f72-b903-ace7ba7de41b",
   "metadata": {},
   "outputs": [],
   "source": []
  }
 ],
 "metadata": {
  "kernelspec": {
   "display_name": "torch",
   "language": "python",
   "name": "python3"
  },
  "language_info": {
   "codemirror_mode": {
    "name": "ipython",
    "version": 3
   },
   "file_extension": ".py",
   "mimetype": "text/x-python",
   "name": "python",
   "nbconvert_exporter": "python",
   "pygments_lexer": "ipython3",
   "version": "3.11.11"
  }
 },
 "nbformat": 4,
 "nbformat_minor": 5
}
