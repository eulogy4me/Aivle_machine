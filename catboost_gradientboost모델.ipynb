{
 "cells": [
  {
   "cell_type": "code",
   "execution_count": 120,
   "id": "5535922e-bcb2-4817-b556-23c8d0861dc9",
   "metadata": {},
   "outputs": [],
   "source": [
    "import pandas as pd\n",
    "from sklearn.model_selection import train_test_split\n",
    "from sklearn.preprocessing import LabelEncoder, StandardScaler\n",
    "from sklearn.ensemble import RandomForestClassifier, GradientBoostingRegressor\n",
    "from catboost import CatBoostClassifier\n",
    "from sklearn.metrics import accuracy_score, mean_squared_error, mean_absolute_error"
   ]
  },
  {
   "cell_type": "code",
   "execution_count": 121,
   "id": "031a8278-23c2-4e56-8407-cc2af5045d21",
   "metadata": {},
   "outputs": [],
   "source": [
    "df = pd.read_csv('/Users/hongjonghyeok/Downloads/데이터 전처리 과정/최종통합본.csv')"
   ]
  },
  {
   "cell_type": "code",
   "execution_count": 122,
   "id": "938b53c1-ab8c-4c0f-a2d9-e443d4585ab8",
   "metadata": {},
   "outputs": [
    {
     "data": {
      "text/plain": [
       "Index(['Name', 'Address', 'Latitude', 'Longitude', 'Supply_type',\n",
       "       'Applicant_type', 'Units', 'Gender', 'Shared', 'Cutline_rate',\n",
       "       'Cutline_score', 'Year', 'Quarter', 'Applied_type', 'Counts_daiso',\n",
       "       'Counts_supermarket', 'Counts_laundry', 'Counts_pharmacy',\n",
       "       'Counts_cafe', 'Counts_convstore', 'Counts_station', 'Infra_score',\n",
       "       'people', 'Rate1', 'Rate2', 'Rate3'],\n",
       "      dtype='object')"
      ]
     },
     "execution_count": 122,
     "metadata": {},
     "output_type": "execute_result"
    }
   ],
   "source": [
    "df.columns"
   ]
  },
  {
   "cell_type": "code",
   "execution_count": 123,
   "id": "cd941533-a11c-4031-96e1-0e9867adbf06",
   "metadata": {},
   "outputs": [],
   "source": [
    "# 필요한 열 선택 (예: 순위와 가점 예측에 필요한 변수)\n",
    "features = ['Infra_score', 'Supply_type', 'Applicant_type', 'Units', 'Gender', 'Shared',\n",
    "            'Year', 'Quarter', 'Applied_type',\n",
    "            'Counts_daiso', 'Counts_supermarket', 'Counts_laundry', \n",
    "            'Counts_pharmacy', 'Counts_cafe', 'Counts_convstore', 'Counts_station', \n",
    "            'Rate1', 'Rate2', 'Rate3']\n",
    "target_rank = 'Cutline_rate'  # 순위 (1, 2, 3)\n",
    "target_score = 'Cutline_score'  # 가점 (0~10)"
   ]
  },
  {
   "cell_type": "code",
   "execution_count": 124,
   "id": "7287b609-e513-4217-bbce-01f7a4eb218f",
   "metadata": {},
   "outputs": [],
   "source": [
    "# 데이터 분리\n",
    "X = df[features]\n",
    "y_rank = df[target_rank]\n",
    "y_score = df[target_score]"
   ]
  },
  {
   "cell_type": "code",
   "execution_count": 125,
   "id": "71933913-f277-4c0a-9dfa-661d1ad61a2d",
   "metadata": {
    "scrolled": true
   },
   "outputs": [
    {
     "name": "stderr",
     "output_type": "stream",
     "text": [
      "/var/folders/4g/1y1rn_456xx_f85fqpq2pl0m0000gn/T/ipykernel_39045/586852210.py:2: SettingWithCopyWarning: \n",
      "A value is trying to be set on a copy of a slice from a DataFrame.\n",
      "Try using .loc[row_indexer,col_indexer] = value instead\n",
      "\n",
      "See the caveats in the documentation: https://pandas.pydata.org/pandas-docs/stable/user_guide/indexing.html#returning-a-view-versus-a-copy\n",
      "  X['Supply_type'] = LabelEncoder().fit_transform(X['Supply_type'])\n",
      "/var/folders/4g/1y1rn_456xx_f85fqpq2pl0m0000gn/T/ipykernel_39045/586852210.py:3: SettingWithCopyWarning: \n",
      "A value is trying to be set on a copy of a slice from a DataFrame.\n",
      "Try using .loc[row_indexer,col_indexer] = value instead\n",
      "\n",
      "See the caveats in the documentation: https://pandas.pydata.org/pandas-docs/stable/user_guide/indexing.html#returning-a-view-versus-a-copy\n",
      "  X['Applicant_type'] = LabelEncoder().fit_transform(X['Applicant_type'])\n",
      "/var/folders/4g/1y1rn_456xx_f85fqpq2pl0m0000gn/T/ipykernel_39045/586852210.py:4: SettingWithCopyWarning: \n",
      "A value is trying to be set on a copy of a slice from a DataFrame.\n",
      "Try using .loc[row_indexer,col_indexer] = value instead\n",
      "\n",
      "See the caveats in the documentation: https://pandas.pydata.org/pandas-docs/stable/user_guide/indexing.html#returning-a-view-versus-a-copy\n",
      "  X['Gender'] = LabelEncoder().fit_transform(X['Gender'])\n",
      "/var/folders/4g/1y1rn_456xx_f85fqpq2pl0m0000gn/T/ipykernel_39045/586852210.py:5: SettingWithCopyWarning: \n",
      "A value is trying to be set on a copy of a slice from a DataFrame.\n",
      "Try using .loc[row_indexer,col_indexer] = value instead\n",
      "\n",
      "See the caveats in the documentation: https://pandas.pydata.org/pandas-docs/stable/user_guide/indexing.html#returning-a-view-versus-a-copy\n",
      "  X['Applied_type'] = LabelEncoder().fit_transform(X['Applied_type'])\n",
      "/var/folders/4g/1y1rn_456xx_f85fqpq2pl0m0000gn/T/ipykernel_39045/586852210.py:6: SettingWithCopyWarning: \n",
      "A value is trying to be set on a copy of a slice from a DataFrame.\n",
      "Try using .loc[row_indexer,col_indexer] = value instead\n",
      "\n",
      "See the caveats in the documentation: https://pandas.pydata.org/pandas-docs/stable/user_guide/indexing.html#returning-a-view-versus-a-copy\n",
      "  X['Shared'] = LabelEncoder().fit_transform(X['Shared'])\n",
      "/var/folders/4g/1y1rn_456xx_f85fqpq2pl0m0000gn/T/ipykernel_39045/586852210.py:7: SettingWithCopyWarning: \n",
      "A value is trying to be set on a copy of a slice from a DataFrame.\n",
      "Try using .loc[row_indexer,col_indexer] = value instead\n",
      "\n",
      "See the caveats in the documentation: https://pandas.pydata.org/pandas-docs/stable/user_guide/indexing.html#returning-a-view-versus-a-copy\n",
      "  X['Year'] = LabelEncoder().fit_transform(X['Year'])\n",
      "/var/folders/4g/1y1rn_456xx_f85fqpq2pl0m0000gn/T/ipykernel_39045/586852210.py:8: SettingWithCopyWarning: \n",
      "A value is trying to be set on a copy of a slice from a DataFrame.\n",
      "Try using .loc[row_indexer,col_indexer] = value instead\n",
      "\n",
      "See the caveats in the documentation: https://pandas.pydata.org/pandas-docs/stable/user_guide/indexing.html#returning-a-view-versus-a-copy\n",
      "  X['Quarter'] = LabelEncoder().fit_transform(X['Quarter'])\n"
     ]
    }
   ],
   "source": [
    "# 범주형 변수 인코딩\n",
    "X['Supply_type'] = LabelEncoder().fit_transform(X['Supply_type'])\n",
    "X['Applicant_type'] = LabelEncoder().fit_transform(X['Applicant_type'])\n",
    "X['Gender'] = LabelEncoder().fit_transform(X['Gender'])\n",
    "X['Applied_type'] = LabelEncoder().fit_transform(X['Applied_type'])\n",
    "X['Shared'] = LabelEncoder().fit_transform(X['Shared'])\n",
    "X['Year'] = LabelEncoder().fit_transform(X['Year'])\n",
    "X['Quarter'] = LabelEncoder().fit_transform(X['Quarter'])"
   ]
  },
  {
   "cell_type": "code",
   "execution_count": 126,
   "id": "b30e592c-9ce8-45af-a100-f9c1555f8a5c",
   "metadata": {},
   "outputs": [],
   "source": [
    "# 학습/테스트 데이터 분리\n",
    "X_train, X_test, y_rank_train, y_rank_test = train_test_split(X, y_rank, test_size=0.1, random_state=42)\n",
    "X_train_score, X_test_score, y_score_train, y_score_test = train_test_split(X, y_score, test_size=0.1, random_state=42)"
   ]
  },
  {
   "cell_type": "code",
   "execution_count": 127,
   "id": "fb75a223-60fa-4856-ae80-bff168c0d063",
   "metadata": {},
   "outputs": [],
   "source": [
    "# 데이터 스케일링\n",
    "scaler = StandardScaler()\n",
    "X_train = scaler.fit_transform(X_train)\n",
    "X_test = scaler.transform(X_test)"
   ]
  },
  {
   "cell_type": "code",
   "execution_count": 128,
   "id": "4c6aa682-d2ae-4c03-90b8-45a17e83f6b9",
   "metadata": {},
   "outputs": [
    {
     "name": "stdout",
     "output_type": "stream",
     "text": [
      "순위 예측 정확도: 0.82\n"
     ]
    }
   ],
   "source": [
    "# 순위 예측 모델 (Random Forest Classifier)\n",
    "rank_model = CatBoostClassifier(iterations=500, learning_rate=0.05, depth=5, verbose=0, random_state=42)\n",
    "rank_model.fit(X_train, y_rank_train)\n",
    "\n",
    "# 순위 예측 평가\n",
    "y_rank_pred = rank_model.predict(X_test)\n",
    "rank_accuracy = accuracy_score(y_rank_test, y_rank_pred)\n",
    "print(f\"순위 예측 정확도: {rank_accuracy:.2f}\")"
   ]
  },
  {
   "cell_type": "code",
   "execution_count": 134,
   "id": "a6bc32e0-9b37-46cc-882b-8985356b02c2",
   "metadata": {},
   "outputs": [
    {
     "name": "stdout",
     "output_type": "stream",
     "text": [
      "   Actual_Rank  Predicted_Rank\n",
      "0            1               2\n",
      "1            3               1\n",
      "2            1               1\n",
      "3            2               2\n",
      "4            2               1\n"
     ]
    }
   ],
   "source": [
    "# 테스트 데이터와 예측 결과를 결합하여 DataFrame 생성\n",
    "# X_test를 DataFrame으로 변환\n",
    "X_test_df = pd.DataFrame(X_test, columns=features)  # features는 입력 변수 이름 리스트\n",
    "\n",
    "# 실제 값과 예측 값을 추가\n",
    "X_test_df['Actual_Rank'] = y_rank_test.values  # 실제 순위 추가\n",
    "X_test_df['Predicted_Rank'] = y_rank_pred  # 예측된 순위 추가\n",
    "\n",
    "# 결과 출력 (상위 5개 행)\n",
    "print(X_test_df[['Actual_Rank', 'Predicted_Rank']].head())"
   ]
  },
  {
   "cell_type": "code",
   "execution_count": 145,
   "id": "6a8adad3-1bf4-4c07-bf25-4eeb3a56d6ff",
   "metadata": {},
   "outputs": [
    {
     "name": "stdout",
     "output_type": "stream",
     "text": [
      "\n",
      "모델 평가:\n",
      "RMSE (평균 제곱근 오차): 2.17\n",
      "R² Score (결정 계수): 0.07\n",
      "\n",
      "예측 값과 실제 값 비교 (상위 5개):\n",
      "실제 값: 7, 예측 값: 5.468018504967832\n",
      "실제 값: 4, 예측 값: 1.9590618499185637\n",
      "실제 값: 6, 예측 값: 5.617959930357705\n",
      "실제 값: 3, 예측 값: 7.417036439732013\n",
      "실제 값: 8, 예측 값: 5.487999934700426\n"
     ]
    },
    {
     "name": "stderr",
     "output_type": "stream",
     "text": [
      "/Users/hongjonghyeok/opt/anaconda3/envs/ai_env/lib/python3.10/site-packages/sklearn/metrics/_regression.py:492: FutureWarning: 'squared' is deprecated in version 1.4 and will be removed in 1.6. To calculate the root mean squared error, use the function'root_mean_squared_error'.\n",
      "  warnings.warn(\n"
     ]
    }
   ],
   "source": [
    "from sklearn.metrics import mean_squared_error, r2_score\n",
    "\n",
    "# 순위별로 데이터를 필터링하여 가점 모델 학습\n",
    "score_models = {}\n",
    "\n",
    "# y_rank_train과 X_train을 DataFrame으로 변환하고 인덱스 재설정\n",
    "X_train_df = pd.DataFrame(X_train).reset_index(drop=True)\n",
    "y_rank_train_df = pd.Series(y_rank_train).reset_index(drop=True)\n",
    "y_score_train_df = pd.Series(y_score_train).reset_index(drop=True)\n",
    "\n",
    "for rank in sorted(y_rank_train_df.unique()):\n",
    "    # 해당 순위의 데이터만 필터링\n",
    "    rank_indices = (y_rank_train_df == rank)  # Boolean mask\n",
    "    X_train_rank = X_train_df[rank_indices]\n",
    "    y_score_train_rank = y_score_train_df[rank_indices]\n",
    "\n",
    "    # 가점 회귀 모델 (Gradient Boosting Regressor)\n",
    "    score_model = GradientBoostingRegressor(learning_rate=0.05, max_depth=5, random_state=42)\n",
    "    score_model.fit(X_train_rank, y_score_train_rank)\n",
    "\n",
    "    # 모델 저장\n",
    "    score_models[rank] = score_model\n",
    "\n",
    "# 테스트 데이터에서 순위별 모델로 가점 예측 수행\n",
    "for i in range(len(X_test)):\n",
    "    rank_pred = int(y_rank_pred[i])  # 예측된 순위를 정수로 변환\n",
    "    score_model = score_models.get(rank_pred)  # 해당 순위의 모델 가져오기\n",
    "    if score_model:\n",
    "        # 해당 순위의 모델로 가점 예측\n",
    "        y_score_pred.append(score_model.predict([X_test[i]])[0])\n",
    "    else:\n",
    "        # 해당 순위에 모델이 없을 경우 None 추가\n",
    "        y_score_pred.append(None)\n",
    "\n",
    "# None 값을 제외한 유효한 예측값과 실제값 추출\n",
    "valid_preds = []\n",
    "valid_actuals = []\n",
    "\n",
    "for pred, actual in zip(y_score_pred, y_score_test):\n",
    "    if pred is not None:  # 예측값이 None이 아닌 경우만 추가\n",
    "        valid_preds.append(pred)\n",
    "        valid_actuals.append(actual)\n",
    "\n",
    "# RMSE 계산\n",
    "rmse = mean_squared_error(valid_actuals, valid_preds, squared=False)\n",
    "\n",
    "# R² Score 계산\n",
    "r2 = r2_score(valid_actuals, valid_preds)\n",
    "\n",
    "# 결과 출력\n",
    "print(f\"\\n모델 평가:\")\n",
    "print(f\"RMSE (평균 제곱근 오차): {rmse:.2f}\")\n",
    "print(f\"R² Score (결정 계수): {r2:.2f}\")\n",
    "\n",
    "# 예측 값과 실제 값 비교 출력\n",
    "print(\"\\n예측 값과 실제 값 비교 (상위 5개):\")\n",
    "for actual, predicted in zip(valid_actuals[:5], valid_preds[:5]):\n",
    "    print(f\"실제 값: {actual}, 예측 값: {predicted}\")"
   ]
  },
  {
   "cell_type": "code",
   "execution_count": null,
   "id": "6a24e978-9907-4d9f-9f27-923161399ed6",
   "metadata": {},
   "outputs": [],
   "source": []
  }
 ],
 "metadata": {
  "kernelspec": {
   "display_name": "ai_env",
   "language": "python",
   "name": "ai_env"
  },
  "language_info": {
   "codemirror_mode": {
    "name": "ipython",
    "version": 3
   },
   "file_extension": ".py",
   "mimetype": "text/x-python",
   "name": "python",
   "nbconvert_exporter": "python",
   "pygments_lexer": "ipython3",
   "version": "3.10.13"
  }
 },
 "nbformat": 4,
 "nbformat_minor": 5
}
